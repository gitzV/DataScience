{
  "nbformat": 4,
  "nbformat_minor": 0,
  "metadata": {
    "colab": {
      "provenance": [],
      "collapsed_sections": [],
      "authorship_tag": "ABX9TyMa762G+mwSii3VJG4y4iLL",
      "include_colab_link": true
    },
    "kernelspec": {
      "name": "python3",
      "display_name": "Python 3"
    },
    "language_info": {
      "name": "python"
    }
  },
  "cells": [
    {
      "cell_type": "markdown",
      "metadata": {
        "id": "view-in-github",
        "colab_type": "text"
      },
      "source": [
        "<a href=\"https://colab.research.google.com/github/gitzV/DataScience/blob/main/tds_numpy.ipynb\" target=\"_parent\"><img src=\"https://colab.research.google.com/assets/colab-badge.svg\" alt=\"Open In Colab\"/></a>"
      ]
    },
    {
      "cell_type": "code",
      "execution_count": 2,
      "metadata": {
        "id": "LWQxt9nEwpRS"
      },
      "outputs": [],
      "source": [
        "import numpy as np \n",
        "import pandas as pd \n",
        "import matplotlib.pyplot as plt"
      ]
    },
    {
      "cell_type": "code",
      "source": [
        "a1 = np.array([1,2,3,4])\n",
        "a1.shape\n"
      ],
      "metadata": {
        "colab": {
          "base_uri": "https://localhost:8080/"
        },
        "id": "HWuC6qkI1CKa",
        "outputId": "ce8de2d7-73b3-4cfa-d5e0-ba3b1c87a2fa"
      },
      "execution_count": 5,
      "outputs": [
        {
          "output_type": "execute_result",
          "data": {
            "text/plain": [
              "(4,)"
            ]
          },
          "metadata": {},
          "execution_count": 5
        }
      ]
    },
    {
      "cell_type": "code",
      "source": [
        "a2 = np.array([[1,2,3,4]]) # initialized with a numpy list \n",
        "a2.shape"
      ],
      "metadata": {
        "colab": {
          "base_uri": "https://localhost:8080/"
        },
        "id": "9DahSaOI2aa8",
        "outputId": "6af10ded-5862-48e0-d5ca-16626fb0282a"
      },
      "execution_count": 6,
      "outputs": [
        {
          "output_type": "execute_result",
          "data": {
            "text/plain": [
              "(1, 4)"
            ]
          },
          "metadata": {},
          "execution_count": 6
        }
      ]
    },
    {
      "cell_type": "code",
      "source": [
        "a3 = np.array([[1], \n",
        "               [2], \n",
        "               [3], \n",
        "               [4]])\n",
        "a3.shape"
      ],
      "metadata": {
        "colab": {
          "base_uri": "https://localhost:8080/"
        },
        "id": "4dcytS4R24H3",
        "outputId": "34fe30bb-ae08-4839-c676-f164ab81be3f"
      },
      "execution_count": 7,
      "outputs": [
        {
          "output_type": "execute_result",
          "data": {
            "text/plain": [
              "(4, 1)"
            ]
          },
          "metadata": {},
          "execution_count": 7
        }
      ]
    },
    {
      "cell_type": "code",
      "source": [
        "M1 = np.array([[1,0,0], \n",
        "               [0,1,0], \n",
        "               [0,0,1], \n",
        "               [0,0,1]])\n",
        "M1 \n",
        "M1.shape\n"
      ],
      "metadata": {
        "colab": {
          "base_uri": "https://localhost:8080/"
        },
        "id": "vjrisDWM5a2j",
        "outputId": "806fd564-ffea-444a-d768-16c2156d2082"
      },
      "execution_count": 9,
      "outputs": [
        {
          "output_type": "execute_result",
          "data": {
            "text/plain": [
              "(4, 3)"
            ]
          },
          "metadata": {},
          "execution_count": 9
        }
      ]
    },
    {
      "cell_type": "code",
      "source": [
        "m = M1.shape[0] # number of rows\n",
        "n = M1.shape[1] # number of columns \n",
        "print(\"m: {}  n:{}\".format(m,n))"
      ],
      "metadata": {
        "colab": {
          "base_uri": "https://localhost:8080/"
        },
        "id": "GeZEPzEC7tLf",
        "outputId": "4e9aabd4-ad62-44f8-b35e-4f8eccabeaef"
      },
      "execution_count": 10,
      "outputs": [
        {
          "output_type": "stream",
          "name": "stdout",
          "text": [
            "m: 4  n:3\n"
          ]
        }
      ]
    },
    {
      "cell_type": "code",
      "source": [
        "M2 = np.reshape(M1, (1,12))\n",
        "display(M2)\n",
        "print(M2.shape)"
      ],
      "metadata": {
        "colab": {
          "base_uri": "https://localhost:8080/",
          "height": 52
        },
        "id": "1KvTs3uc9_bj",
        "outputId": "ea62db7d-b5ab-4f6c-e33a-3ea53d1b0492"
      },
      "execution_count": 11,
      "outputs": [
        {
          "output_type": "display_data",
          "data": {
            "text/plain": [
              "array([[1, 0, 0, 0, 1, 0, 0, 0, 1, 0, 0, 1]])"
            ]
          },
          "metadata": {}
        },
        {
          "output_type": "stream",
          "name": "stdout",
          "text": [
            "(1, 12)\n"
          ]
        }
      ]
    },
    {
      "cell_type": "code",
      "source": [
        "print(\"original a2.shape: \", a1.shape) \n",
        "\n",
        "# reshape into a vector\n",
        "a1_vec = np.reshape(a1, (a1.shape[0],1))\n",
        "\n",
        "print(\"reshaped: \", a1_vec.shape)"
      ],
      "metadata": {
        "colab": {
          "base_uri": "https://localhost:8080/"
        },
        "id": "gpk6xEJgBVLy",
        "outputId": "02218117-ae4a-4848-c495-7e9e010b3798"
      },
      "execution_count": 13,
      "outputs": [
        {
          "output_type": "stream",
          "name": "stdout",
          "text": [
            "original a2.shape:  (4,)\n",
            "reshaped:  (4, 1)\n"
          ]
        }
      ]
    },
    {
      "cell_type": "code",
      "source": [
        "# python list: \n",
        "l = [1,2,3,4] \n",
        "\n",
        "# np.array \n",
        "l_np = np.array(l)\n",
        "\n",
        "# different print style \n",
        "print(l) \n",
        "print(l_np) # note the lack of commas "
      ],
      "metadata": {
        "colab": {
          "base_uri": "https://localhost:8080/"
        },
        "id": "eijJUXw5N02e",
        "outputId": "f70796a6-18e1-455d-e200-838be5947b59"
      },
      "execution_count": 14,
      "outputs": [
        {
          "output_type": "stream",
          "name": "stdout",
          "text": [
            "[1, 2, 3, 4]\n",
            "[1 2 3 4]\n"
          ]
        }
      ]
    },
    {
      "cell_type": "code",
      "source": [
        "print(l*5) # multiplying a python list replicates it\n",
        "print(l_np*5) # numpy applies operation elemntwise"
      ],
      "metadata": {
        "colab": {
          "base_uri": "https://localhost:8080/"
        },
        "id": "iDxuujQ1PhyT",
        "outputId": "06daf124-bdad-4e07-8432-99f0212ef466"
      },
      "execution_count": 15,
      "outputs": [
        {
          "output_type": "stream",
          "name": "stdout",
          "text": [
            "[1, 2, 3, 4, 1, 2, 3, 4, 1, 2, 3, 4, 1, 2, 3, 4, 1, 2, 3, 4]\n",
            "[ 5 10 15 20]\n"
          ]
        }
      ]
    },
    {
      "cell_type": "code",
      "source": [
        "M3 = np.random.randn(5,5)\n",
        "M3 "
      ],
      "metadata": {
        "colab": {
          "base_uri": "https://localhost:8080/"
        },
        "id": "Z5AVxqtmRKw3",
        "outputId": "710386e6-ec46-489b-eb36-b7c06afec442"
      },
      "execution_count": 18,
      "outputs": [
        {
          "output_type": "execute_result",
          "data": {
            "text/plain": [
              "array([[ 0.30567421,  0.92986093,  1.22559032,  0.04743279, -2.79782543],\n",
              "       [-0.15016506, -0.92088147, -1.59947316,  1.89481548, -0.2807835 ],\n",
              "       [ 0.24759927, -0.09072047,  0.75112313, -0.60664418, -1.5336063 ],\n",
              "       [-1.13856817,  0.97913584, -0.40704266,  0.76651127,  1.44291134],\n",
              "       [ 0.79251604,  1.15151535,  1.06823261,  0.32276066, -0.354841  ]])"
            ]
          },
          "metadata": {},
          "execution_count": 18
        }
      ]
    },
    {
      "cell_type": "code",
      "source": [
        "n = 10\n",
        "theta = np.random.randn(n,1) \n",
        "theta"
      ],
      "metadata": {
        "colab": {
          "base_uri": "https://localhost:8080/"
        },
        "id": "cjQ3qtk9RSkQ",
        "outputId": "e8d97bea-abd0-483f-d456-b2422cafac72"
      },
      "execution_count": 19,
      "outputs": [
        {
          "output_type": "execute_result",
          "data": {
            "text/plain": [
              "array([[ 0.03799748],\n",
              "       [-1.24781041],\n",
              "       [ 0.37703551],\n",
              "       [-0.86374244],\n",
              "       [-0.37825835],\n",
              "       [ 0.58778976],\n",
              "       [-1.48786568],\n",
              "       [-1.43772297],\n",
              "       [ 0.88494751],\n",
              "       [ 0.31181532]])"
            ]
          },
          "metadata": {},
          "execution_count": 19
        }
      ]
    }
  ]
}